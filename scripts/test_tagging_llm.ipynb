{
 "cells": [
  {
   "cell_type": "code",
   "execution_count": null,
   "metadata": {},
   "outputs": [],
   "source": [
    "from pathlib import Path\n",
    "from tca.text.document_utils import DocumentLoader\n",
    "\n",
    "document_path = Path(\n",
    "    \"data/accords_entreprise_niveau2/T20A23060010_PROTOCOLE_ANONYME_FIN_CONFLIT_REPRISE_TRAVAIL_202309.docx\"\n",
    ")\n",
    "document_loaders = DocumentLoader()\n",
    "document_text = document_loaders.load_text_from_document(document_path)\n",
    "document_text"
   ]
  },
  {
   "cell_type": "code",
   "execution_count": null,
   "metadata": {},
   "outputs": [],
   "source": [
    "from openai import OpenAI\n",
    "import pandas as pd\n",
    "\n",
    "# Configurez votre clé API OpenAI\n",
    "client = OpenAI()\n",
    "\n",
    "themes = pd.read_csv(\"data/theme_list.csv\")\n",
    "\n",
    "\n",
    "def generate_analysis(themes: list[str], document: str) -> list[dict[str, list[str]]]:\n",
    "    themes_list = \"\\n\".join(f'- \"{theme}\"' for theme in themes)\n",
    "    prompt = f\"\"\"\n",
    "Voici l'accord d'entreprise à analyser :\n",
    "{document}\n",
    "    \"\"\"\n",
    "    # Effectuez l'appel à l'API\n",
    "    response = client.chat.completions.create(\n",
    "        model=\"gpt-4o\",\n",
    "        messages=[\n",
    "            {\n",
    "                \"role\": \"system\",\n",
    "                \"content\": f\"\"\"\n",
    "Je souhaite analyser un accord d'entreprise d'une entreprise française en fonction des thèmes suivants : {themes_list}\"\n",
    "Retourne les résultats sous le format JSON suivant (sans balisage de bloc de code) :\n",
    "[\n",
    "    {{\n",
    "        \"thème\": \"premier thème qui correspond\",\n",
    "        \"extraits\": [\"bout de texte 1 dans le document qui correspond au thème\", \"bout de texte 2 dans le document qui correspond au thème\"]\n",
    "    }},\n",
    "    {{\n",
    "        \"thème\": \"deuxième thème qui correspond\",\n",
    "        \"extraits\": [\"bout de texte 1 dans le document qui correspond au thème\"]\n",
    "    }}\n",
    "]\n",
    "Si un thème ne correspond à aucun extrait dans l'accord, ne l'inclus pas dans la sortie JSON.\n",
    "Il faut que la correspondance entre le thème et l'extrait trouvé soit forte.\n",
    "\"\"\",\n",
    "            },\n",
    "            {\"role\": \"user\", \"content\": prompt},\n",
    "        ],\n",
    "        temperature=0,\n",
    "    )\n",
    "\n",
    "    return response\n",
    "\n",
    "\n",
    "result = generate_analysis(themes[\"description\"].to_list(), document_text)\n",
    "result"
   ]
  },
  {
   "cell_type": "code",
   "execution_count": null,
   "metadata": {},
   "outputs": [],
   "source": [
    "print(result.choices[0].message.content)"
   ]
  }
 ],
 "metadata": {
  "kernelspec": {
   "display_name": ".venv",
   "language": "python",
   "name": "python3"
  },
  "language_info": {
   "codemirror_mode": {
    "name": "ipython",
    "version": 3
   },
   "file_extension": ".py",
   "mimetype": "text/x-python",
   "name": "python",
   "nbconvert_exporter": "python",
   "pygments_lexer": "ipython3",
   "version": "3.11.3"
  }
 },
 "nbformat": 4,
 "nbformat_minor": 2
}
